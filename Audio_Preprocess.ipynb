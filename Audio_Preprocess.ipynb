{
 "cells": [
  {
   "cell_type": "code",
   "execution_count": null,
   "id": "b601604c-5fc8-4a4b-91de-5addbdf735d2",
   "metadata": {},
   "outputs": [],
   "source": [
    "import os\n",
    "import librosa\n",
    "import soundfile as sf\n",
    "\n",
    "input_path = \"C:\\\\Users\\\\tanis\\\\OneDrive\\\\Desktop\\\\Project\\\\tortoise-tts\\\\custom_voice_samples\"  # Add your path\n",
    "output_path = \"C:\\\\Users\\\\tanis\\\\OneDrive\\\\Desktop\\\\Project\\\\tortoise-tts\\\\tortoise\\\\voices\\\\snehil\"  # Add your path\n",
    "\n",
    "if not os.path.exists(output_path):\n",
    "    os.makedirs(output_path)\n",
    "\n",
    "for filename in os.listdir(input_path):\n",
    "    if filename.endswith(\".wav\"):\n",
    "        # Load the .wav file\n",
    "        filepath = os.path.join(input_path, filename)\n",
    "        y, sr = librosa.load(filepath, sr=22050)\n",
    "\n",
    "        # Trim silence\n",
    "        trimmed_audio, _ = librosa.effects.trim(y, top_db=20)\n",
    "\n",
    "        # Normalize audio\n",
    "        normalized_audio = librosa.util.normalize(trimmed_audio)\n",
    "\n",
    "        # Save processed .wav file to the output folder\n",
    "        output_filepath = os.path.join(output_path, filename)\n",
    "        sf.write(output_filepath, normalized_audio, sr, subtype='PCM_16')\n",
    "\n",
    "print(\"All .wav files have been preprocessed and saved to the output folder.\")"
   ]
  }
 ],
 "metadata": {
  "kernelspec": {
   "display_name": "Python 3 (ipykernel)",
   "language": "python",
   "name": "python3"
  },
  "language_info": {
   "codemirror_mode": {
    "name": "ipython",
    "version": 3
   },
   "file_extension": ".py",
   "mimetype": "text/x-python",
   "name": "python",
   "nbconvert_exporter": "python",
   "pygments_lexer": "ipython3",
   "version": "3.11.4"
  }
 },
 "nbformat": 4,
 "nbformat_minor": 5
}
