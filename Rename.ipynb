{
 "cells": [
  {
   "cell_type": "code",
   "execution_count": 2,
   "id": "3c3ea1d0-1fc9-4e17-b743-df49daad9417",
   "metadata": {},
   "outputs": [
    {
     "name": "stdout",
     "output_type": "stream",
     "text": [
      "Folder path: C:\\\\Users\\\\tanis\\\\OneDrive\\\\Desktop\\\\Project\\\\tortoise-tts\\\\custom_voice_samples\n",
      "All files in the folder: ['150295b2-6ede-452e-aa97-edb0e941f4f0-byVC.wav', '428d833c-84d8-418a-bb4e-cb852b27c758-byVC.wav', '4e60e6b4-86b7-4953-8f70-b7759ba5255a-byVC.wav', '52ef85d9-5be8-408c-82d5-fe16ef2d6948-byVC.wav', '8147127c-adcd-4b9c-89d6-f9a73ea054f0-byVC.wav', 'c4fa5a9b-d0f2-481c-9ddd-c8204e5714ac-byVC.wav', 'd4efcaeb-1af0-4517-bd9d-f1ebd1e066a9-byVC.wav', 'e8faa243-2005-458d-97ef-b0edb45ca0bc-byVC.wav', 'ed6beed6-8b6e-487e-9248-9707e101a326-byVC.wav', 'f6570ee2-edb1-464d-9aef-49d3d3b40e6d-byVC.wav']\n",
      "Wave files found: 10\n",
      "Renamed C:\\\\Users\\\\tanis\\\\OneDrive\\\\Desktop\\\\Project\\\\tortoise-tts\\\\custom_voice_samples\\150295b2-6ede-452e-aa97-edb0e941f4f0-byVC.wav to C:\\\\Users\\\\tanis\\\\OneDrive\\\\Desktop\\\\Project\\\\tortoise-tts\\\\custom_voice_samples\\1.wav\n",
      "Renamed C:\\\\Users\\\\tanis\\\\OneDrive\\\\Desktop\\\\Project\\\\tortoise-tts\\\\custom_voice_samples\\428d833c-84d8-418a-bb4e-cb852b27c758-byVC.wav to C:\\\\Users\\\\tanis\\\\OneDrive\\\\Desktop\\\\Project\\\\tortoise-tts\\\\custom_voice_samples\\2.wav\n",
      "Renamed C:\\\\Users\\\\tanis\\\\OneDrive\\\\Desktop\\\\Project\\\\tortoise-tts\\\\custom_voice_samples\\4e60e6b4-86b7-4953-8f70-b7759ba5255a-byVC.wav to C:\\\\Users\\\\tanis\\\\OneDrive\\\\Desktop\\\\Project\\\\tortoise-tts\\\\custom_voice_samples\\3.wav\n",
      "Renamed C:\\\\Users\\\\tanis\\\\OneDrive\\\\Desktop\\\\Project\\\\tortoise-tts\\\\custom_voice_samples\\52ef85d9-5be8-408c-82d5-fe16ef2d6948-byVC.wav to C:\\\\Users\\\\tanis\\\\OneDrive\\\\Desktop\\\\Project\\\\tortoise-tts\\\\custom_voice_samples\\4.wav\n",
      "Renamed C:\\\\Users\\\\tanis\\\\OneDrive\\\\Desktop\\\\Project\\\\tortoise-tts\\\\custom_voice_samples\\8147127c-adcd-4b9c-89d6-f9a73ea054f0-byVC.wav to C:\\\\Users\\\\tanis\\\\OneDrive\\\\Desktop\\\\Project\\\\tortoise-tts\\\\custom_voice_samples\\5.wav\n",
      "Renamed C:\\\\Users\\\\tanis\\\\OneDrive\\\\Desktop\\\\Project\\\\tortoise-tts\\\\custom_voice_samples\\c4fa5a9b-d0f2-481c-9ddd-c8204e5714ac-byVC.wav to C:\\\\Users\\\\tanis\\\\OneDrive\\\\Desktop\\\\Project\\\\tortoise-tts\\\\custom_voice_samples\\6.wav\n",
      "Renamed C:\\\\Users\\\\tanis\\\\OneDrive\\\\Desktop\\\\Project\\\\tortoise-tts\\\\custom_voice_samples\\d4efcaeb-1af0-4517-bd9d-f1ebd1e066a9-byVC.wav to C:\\\\Users\\\\tanis\\\\OneDrive\\\\Desktop\\\\Project\\\\tortoise-tts\\\\custom_voice_samples\\7.wav\n",
      "Renamed C:\\\\Users\\\\tanis\\\\OneDrive\\\\Desktop\\\\Project\\\\tortoise-tts\\\\custom_voice_samples\\e8faa243-2005-458d-97ef-b0edb45ca0bc-byVC.wav to C:\\\\Users\\\\tanis\\\\OneDrive\\\\Desktop\\\\Project\\\\tortoise-tts\\\\custom_voice_samples\\8.wav\n",
      "Renamed C:\\\\Users\\\\tanis\\\\OneDrive\\\\Desktop\\\\Project\\\\tortoise-tts\\\\custom_voice_samples\\ed6beed6-8b6e-487e-9248-9707e101a326-byVC.wav to C:\\\\Users\\\\tanis\\\\OneDrive\\\\Desktop\\\\Project\\\\tortoise-tts\\\\custom_voice_samples\\9.wav\n",
      "Renamed C:\\\\Users\\\\tanis\\\\OneDrive\\\\Desktop\\\\Project\\\\tortoise-tts\\\\custom_voice_samples\\f6570ee2-edb1-464d-9aef-49d3d3b40e6d-byVC.wav to C:\\\\Users\\\\tanis\\\\OneDrive\\\\Desktop\\\\Project\\\\tortoise-tts\\\\custom_voice_samples\\10.wav\n",
      "Wave files renamed successfully!\n"
     ]
    }
   ],
   "source": [
    "import os\n",
    "def rename_wave_files(folder_path):\n",
    "    files = os.listdir(folder_path)\n",
    "    wav_files = [f for f in files if f.lower().endswith('.wav')]\n",
    "\n",
    "    print(f'Folder path: {folder_path}')\n",
    "    print(f'All files in the folder: {files}')\n",
    "    print(f'Wave files found: {len(wav_files)}')\n",
    "\n",
    "    for index, wav_file in enumerate(wav_files, start=1):\n",
    "        old_path = os.path.join(folder_path, wav_file)\n",
    "        new_path = os.path.join(folder_path, f'{index}.wav')\n",
    "        os.rename(old_path, new_path)\n",
    "        print(f'Renamed {old_path} to {new_path}')\n",
    "\n",
    "\n",
    "if __name__ == \"__main__\":\n",
    "    folder_path = r'C:\\\\Users\\\\tanis\\\\OneDrive\\\\Desktop\\\\Project\\\\tortoise-tts\\\\custom_voice_samples'  # Change this to your wav file folder\n",
    "    rename_wave_files(folder_path)\n",
    "    print(\"Wave files renamed successfully!\")"
   ]
  },
  {
   "cell_type": "code",
   "execution_count": null,
   "id": "3dffbc47-0126-4ecd-a740-26b1e144ed9d",
   "metadata": {},
   "outputs": [],
   "source": []
  }
 ],
 "metadata": {
  "kernelspec": {
   "display_name": "Python 3 (ipykernel)",
   "language": "python",
   "name": "python3"
  },
  "language_info": {
   "codemirror_mode": {
    "name": "ipython",
    "version": 3
   },
   "file_extension": ".py",
   "mimetype": "text/x-python",
   "name": "python",
   "nbconvert_exporter": "python",
   "pygments_lexer": "ipython3",
   "version": "3.11.4"
  }
 },
 "nbformat": 4,
 "nbformat_minor": 5
}
